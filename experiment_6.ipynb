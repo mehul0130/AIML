{
 "cells": [
  {
   "cell_type": "code",
   "execution_count": 2,
   "id": "11e4941e-31a2-4c7c-a08f-f5f8ecccd92f",
   "metadata": {},
   "outputs": [],
   "source": [
    "import pandas as pd\n",
    "import seaborn as sns\n",
    "import matplotlib.pyplot as plt"
   ]
  },
  {
   "cell_type": "code",
   "execution_count": 3,
   "id": "6443bafe-1daf-4c95-b2d0-1cfb3660a26e",
   "metadata": {},
   "outputs": [],
   "source": [
    "# Load the dataset\n",
    "dataset = pd.read_csv('candy-data.csv')"
   ]
  },
  {
   "cell_type": "code",
   "execution_count": 4,
   "id": "f872c335-9833-4ad4-8333-0f8b2ca0aee0",
   "metadata": {},
   "outputs": [],
   "source": [
    "def handle_missing_values(data, strategy='mean'):\n",
    "    if strategy == 'mean':\n",
    "        return data.fillna(data.mean(numeric_only=True))\n",
    "    elif strategy == 'median':\n",
    "        return data.fillna(data.median(numeric_only=True))\n",
    "    elif strategy == 'mode':\n",
    "        return data.fillna(data.mode().iloc[0])\n",
    "    else:\n",
    "        raise ValueError"
   ]
  },
  {
   "cell_type": "code",
   "execution_count": 5,
   "id": "ecdb08cb-e860-41dd-a9f6-a70df1c91973",
   "metadata": {},
   "outputs": [],
   "source": [
    "def handle_outliers(data):\n",
    "    # Select numeric columns only\n",
    "    numeric_cols = data.select_dtypes(include=[np.number])\n",
    "\n",
    "    Q1 = numeric_cols.quantile(0.25)\n",
    "    Q3 = numeric_cols.quantile(0.75)\n",
    "    IQR = Q3 - Q1\n",
    "    lower_bound = Q1 - 1.5 * IQR\n",
    "    upper_bound = Q3 + 1.5 * IQR\n",
    "    \n",
    "    # Capping the outliers to the upper and lower bounds\n",
    "    numeric_cols_outliers_removed = numeric_cols.clip(lower=lower_bound, upper=upper_bound, axis=1)\n",
    "\n",
    "    # Replace the numeric columns in the original dataset\n",
    "    data[numeric_cols.columns] = numeric_cols_outliers_removed\n",
    "    \n",
    "    return data"
   ]
  },
  {
   "cell_type": "code",
   "execution_count": 6,
   "id": "db16b527-c118-4733-80dd-abe95c078a24",
   "metadata": {},
   "outputs": [],
   "source": [
    "import numpy as np\n",
    "def split_train_test(data, test_ratio):\n",
    "    shuffled = np.random.permutation(len(data))\n",
    "    print(shuffled)\n",
    "    test_set_size = int(len(data)*test_ratio)\n",
    "    test_indices = shuffled[:test_set_size]\n",
    "    train_indices = shuffled[test_set_size:]\n",
    "    return data.iloc[train_indices],data.iloc[test_indices]"
   ]
  },
  {
   "cell_type": "code",
   "execution_count": 7,
   "id": "27438789-d583-4e3d-96fc-9deea8359268",
   "metadata": {},
   "outputs": [
    {
     "name": "stdout",
     "output_type": "stream",
     "text": [
      "[54 80 79 45  3 29 24 58 43 37 13 35 65 20 50 61 47 21 15 49 32 40  5 30\n",
      " 26 69 52  4 75  7 84 48 73 60  0 70 76 10 64 39 68 71 36 67 16 17 78 38\n",
      " 82 18 83 72 28 74 62 19 12 66 34 14  6  1 41 42 33 46  8 81 31 22  2 51\n",
      " 23 56 57 63 25 55 53  9 27 11 77 59 44]\n"
     ]
    }
   ],
   "source": [
    "train_set, test_set = split_train_test(dataset, 0.2)"
   ]
  },
  {
   "cell_type": "code",
   "execution_count": 8,
   "id": "3aa58b8a-593a-43e8-9174-3fa3688e4f5c",
   "metadata": {},
   "outputs": [
    {
     "name": "stdout",
     "output_type": "stream",
     "text": [
      "Row in train set:68\n",
      "Rows in test set: 17\n",
      "\n"
     ]
    }
   ],
   "source": [
    "print(f\"Row in train set:{len(train_set)}\\nRows in test set: {len(test_set)}\\n\")"
   ]
  },
  {
   "cell_type": "code",
   "execution_count": null,
   "id": "80e17e55-2ae9-4539-b0fc-6287d728c1b0",
   "metadata": {},
   "outputs": [],
   "source": []
  },
  {
   "cell_type": "code",
   "execution_count": null,
   "id": "25104b09-565b-4402-96e2-de77e7dcd903",
   "metadata": {},
   "outputs": [],
   "source": []
  },
  {
   "cell_type": "code",
   "execution_count": null,
   "id": "6950730b-fb0d-432b-a32d-625113bf3364",
   "metadata": {},
   "outputs": [],
   "source": []
  }
 ],
 "metadata": {
  "kernelspec": {
   "display_name": "Python 3 (ipykernel)",
   "language": "python",
   "name": "python3"
  },
  "language_info": {
   "codemirror_mode": {
    "name": "ipython",
    "version": 3
   },
   "file_extension": ".py",
   "mimetype": "text/x-python",
   "name": "python",
   "nbconvert_exporter": "python",
   "pygments_lexer": "ipython3",
   "version": "3.12.7"
  }
 },
 "nbformat": 4,
 "nbformat_minor": 5
}
