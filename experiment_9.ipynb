{
 "cells": [
  {
   "cell_type": "code",
   "execution_count": 1,
   "id": "bb327c60-f612-4444-8954-f4d69023ef30",
   "metadata": {},
   "outputs": [
    {
     "name": "stdout",
     "output_type": "stream",
     "text": [
      "Original target class distribution:\n",
      " Target\n",
      "0    6\n",
      "1    4\n",
      "Name: count, dtype: int64\n",
      "\n",
      "After Random Over-Sampling:\n",
      " Target\n",
      "0    5\n",
      "1    5\n",
      "Name: count, dtype: int64\n",
      "\n",
      "After Random Under-Sampling:\n",
      " Target\n",
      "0    2\n",
      "1    2\n",
      "Name: count, dtype: int64\n",
      "\n",
      "After SMOTE:\n",
      " Target\n",
      "0    5\n",
      "1    5\n",
      "Name: count, dtype: int64\n"
     ]
    }
   ],
   "source": [
    "import pandas as pd\n",
    "import numpy as np\n",
    "from sklearn.preprocessing import MinMaxScaler\n",
    "from sklearn.model_selection import train_test_split\n",
    "from imblearn.over_sampling import RandomOverSampler, SMOTE\n",
    "from imblearn.under_sampling import RandomUnderSampler\n",
    "\n",
    "# Your dataset\n",
    "data = {\n",
    "    'ID': [1, 2, 3, 4, 5, 6, 7, 8, 9, 10],\n",
    "    'Name': ['Alice', 'Bob', 'Charlie', 'David', 'Eve', 'Frank', 'Grace', 'Hannah', 'Ivy', 'Jack'],\n",
    "    'Age': [30, 25, 28, 35, 40, 30, 25, 40, 28, 35],\n",
    "    'Salary': [70000, 60000, 60000, 80000, 70000, 60000, 60000, 80000, 70000, 60000],\n",
    "    'Department': ['HR', 'IT', 'IT', 'Finance', 'HR', 'IT', 'IT', 'Finance', 'HR', 'Finance']\n",
    "}\n",
    "\n",
    "df = pd.DataFrame(data)\n",
    "\n",
    "# Simulate an imbalanced dataset\n",
    "df['Target'] = np.where(df['Department'] == 'IT', 1, 0)  # 1 for 'IT', 0 for others\n",
    "\n",
    "# Count the target class distribution\n",
    "print(\"Original target class distribution:\\n\", df['Target'].value_counts())\n",
    "\n",
    "# Splitting data into features and target\n",
    "X = df.drop(columns=['ID', 'Name', 'Department', 'Target'])\n",
    "y = df['Target']\n",
    "\n",
    "# Splitting into training and test sets\n",
    "X_train, X_test, y_train, y_test = train_test_split(X, y, test_size=0.3, random_state=42)\n",
    "\n",
    "# Method 1: Random Over-Sampling\n",
    "ros = RandomOverSampler(random_state=42)\n",
    "X_ros, y_ros = ros.fit_resample(X_train, y_train)\n",
    "print(\"\\nAfter Random Over-Sampling:\\n\", pd.Series(y_ros).value_counts())\n",
    "\n",
    "# Method 2: Random Under-Sampling\n",
    "rus = RandomUnderSampler(random_state=42)\n",
    "X_rus, y_rus = rus.fit_resample(X_train, y_train)\n",
    "print(\"\\nAfter Random Under-Sampling:\\n\", pd.Series(y_rus).value_counts())\n",
    "\n",
    "# Method 3: SMOTE with a smaller number of neighbors\n",
    "smote = SMOTE(k_neighbors=1, random_state=42)  # Reduce k_neighbors to 1\n",
    "X_smote, y_smote = smote.fit_resample(X_train, y_train)\n",
    "print(\"\\nAfter SMOTE:\\n\", pd.Series(y_smote).value_counts())\n"
   ]
  },
  {
   "cell_type": "code",
   "execution_count": null,
   "id": "aa73000f-863b-452d-b5d4-5876373d3e48",
   "metadata": {},
   "outputs": [],
   "source": []
  }
 ],
 "metadata": {
  "kernelspec": {
   "display_name": "Python 3 (ipykernel)",
   "language": "python",
   "name": "python3"
  },
  "language_info": {
   "codemirror_mode": {
    "name": "ipython",
    "version": 3
   },
   "file_extension": ".py",
   "mimetype": "text/x-python",
   "name": "python",
   "nbconvert_exporter": "python",
   "pygments_lexer": "ipython3",
   "version": "3.12.7"
  }
 },
 "nbformat": 4,
 "nbformat_minor": 5
}
