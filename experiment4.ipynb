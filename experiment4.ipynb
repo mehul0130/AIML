{
 "cells": [
  {
   "cell_type": "code",
   "execution_count": 15,
   "metadata": {},
   "outputs": [],
   "source": [
    "import pandas as pd "
   ]
  },
  {
   "cell_type": "code",
   "execution_count": 16,
   "metadata": {},
   "outputs": [],
   "source": [
    "# Load the dataset\n",
    "data_path = r\"C:\\Users\\ASUS\\OneDrive\\Desktop\\AIML_LAB\\candy-data.csv\"\n",
    "df=pd.read_csv(data_path)"
   ]
  },
  {
   "cell_type": "code",
   "execution_count": 17,
   "metadata": {},
   "outputs": [
    {
     "name": "stdout",
     "output_type": "stream",
     "text": [
      "Number of rows: 85\n",
      "Number of columns: 13\n"
     ]
    }
   ],
   "source": [
    "# Number of rows and columns\n",
    "print(f\"Number of rows: {df.shape[0]}\")\n",
    "print(f\"Number of columns: {df.shape[1]}\")"
   ]
  },
  {
   "cell_type": "code",
   "execution_count": 18,
   "metadata": {},
   "outputs": [
    {
     "data": {
      "text/html": [
       "<div>\n",
       "<style scoped>\n",
       "    .dataframe tbody tr th:only-of-type {\n",
       "        vertical-align: middle;\n",
       "    }\n",
       "\n",
       "    .dataframe tbody tr th {\n",
       "        vertical-align: top;\n",
       "    }\n",
       "\n",
       "    .dataframe thead th {\n",
       "        text-align: right;\n",
       "    }\n",
       "</style>\n",
       "<table border=\"1\" class=\"dataframe\">\n",
       "  <thead>\n",
       "    <tr style=\"text-align: right;\">\n",
       "      <th></th>\n",
       "      <th>competitorname</th>\n",
       "      <th>chocolate</th>\n",
       "      <th>fruity</th>\n",
       "      <th>caramel</th>\n",
       "      <th>peanutyalmondy</th>\n",
       "      <th>nougat</th>\n",
       "      <th>crispedricewafer</th>\n",
       "      <th>hard</th>\n",
       "      <th>bar</th>\n",
       "      <th>pluribus</th>\n",
       "      <th>sugarpercent</th>\n",
       "      <th>pricepercent</th>\n",
       "      <th>winpercent</th>\n",
       "    </tr>\n",
       "  </thead>\n",
       "  <tbody>\n",
       "    <tr>\n",
       "      <th>0</th>\n",
       "      <td>100 Grand</td>\n",
       "      <td>1</td>\n",
       "      <td>0</td>\n",
       "      <td>1</td>\n",
       "      <td>0</td>\n",
       "      <td>0</td>\n",
       "      <td>1</td>\n",
       "      <td>0</td>\n",
       "      <td>1</td>\n",
       "      <td>0</td>\n",
       "      <td>0.732</td>\n",
       "      <td>0.860</td>\n",
       "      <td>66.971725</td>\n",
       "    </tr>\n",
       "    <tr>\n",
       "      <th>1</th>\n",
       "      <td>3 Musketeers</td>\n",
       "      <td>1</td>\n",
       "      <td>0</td>\n",
       "      <td>0</td>\n",
       "      <td>0</td>\n",
       "      <td>1</td>\n",
       "      <td>0</td>\n",
       "      <td>0</td>\n",
       "      <td>1</td>\n",
       "      <td>0</td>\n",
       "      <td>0.604</td>\n",
       "      <td>0.511</td>\n",
       "      <td>67.602936</td>\n",
       "    </tr>\n",
       "    <tr>\n",
       "      <th>2</th>\n",
       "      <td>One dime</td>\n",
       "      <td>0</td>\n",
       "      <td>0</td>\n",
       "      <td>0</td>\n",
       "      <td>0</td>\n",
       "      <td>0</td>\n",
       "      <td>0</td>\n",
       "      <td>0</td>\n",
       "      <td>0</td>\n",
       "      <td>0</td>\n",
       "      <td>0.011</td>\n",
       "      <td>0.116</td>\n",
       "      <td>32.261086</td>\n",
       "    </tr>\n",
       "    <tr>\n",
       "      <th>3</th>\n",
       "      <td>One quarter</td>\n",
       "      <td>0</td>\n",
       "      <td>0</td>\n",
       "      <td>0</td>\n",
       "      <td>0</td>\n",
       "      <td>0</td>\n",
       "      <td>0</td>\n",
       "      <td>0</td>\n",
       "      <td>0</td>\n",
       "      <td>0</td>\n",
       "      <td>0.011</td>\n",
       "      <td>0.511</td>\n",
       "      <td>46.116505</td>\n",
       "    </tr>\n",
       "    <tr>\n",
       "      <th>4</th>\n",
       "      <td>Air Heads</td>\n",
       "      <td>0</td>\n",
       "      <td>1</td>\n",
       "      <td>0</td>\n",
       "      <td>0</td>\n",
       "      <td>0</td>\n",
       "      <td>0</td>\n",
       "      <td>0</td>\n",
       "      <td>0</td>\n",
       "      <td>0</td>\n",
       "      <td>0.906</td>\n",
       "      <td>0.511</td>\n",
       "      <td>52.341465</td>\n",
       "    </tr>\n",
       "  </tbody>\n",
       "</table>\n",
       "</div>"
      ],
      "text/plain": [
       "  competitorname  chocolate  fruity  caramel  peanutyalmondy  nougat  \\\n",
       "0      100 Grand          1       0        1               0       0   \n",
       "1   3 Musketeers          1       0        0               0       1   \n",
       "2       One dime          0       0        0               0       0   \n",
       "3    One quarter          0       0        0               0       0   \n",
       "4      Air Heads          0       1        0               0       0   \n",
       "\n",
       "   crispedricewafer  hard  bar  pluribus  sugarpercent  pricepercent  \\\n",
       "0                 1     0    1         0         0.732         0.860   \n",
       "1                 0     0    1         0         0.604         0.511   \n",
       "2                 0     0    0         0         0.011         0.116   \n",
       "3                 0     0    0         0         0.011         0.511   \n",
       "4                 0     0    0         0         0.906         0.511   \n",
       "\n",
       "   winpercent  \n",
       "0   66.971725  \n",
       "1   67.602936  \n",
       "2   32.261086  \n",
       "3   46.116505  \n",
       "4   52.341465  "
      ]
     },
     "execution_count": 18,
     "metadata": {},
     "output_type": "execute_result"
    }
   ],
   "source": [
    "df.head()"
   ]
  },
  {
   "cell_type": "code",
   "execution_count": 19,
   "metadata": {},
   "outputs": [
    {
     "name": "stdout",
     "output_type": "stream",
     "text": [
      "\n",
      "First five rows:\n",
      "  competitorname  chocolate  fruity  caramel  peanutyalmondy  nougat  \\\n",
      "0      100 Grand          1       0        1               0       0   \n",
      "1   3 Musketeers          1       0        0               0       1   \n",
      "2       One dime          0       0        0               0       0   \n",
      "3    One quarter          0       0        0               0       0   \n",
      "4      Air Heads          0       1        0               0       0   \n",
      "\n",
      "   crispedricewafer  hard  bar  pluribus  sugarpercent  pricepercent  \\\n",
      "0                 1     0    1         0         0.732         0.860   \n",
      "1                 0     0    1         0         0.604         0.511   \n",
      "2                 0     0    0         0         0.011         0.116   \n",
      "3                 0     0    0         0         0.011         0.511   \n",
      "4                 0     0    0         0         0.906         0.511   \n",
      "\n",
      "   winpercent  \n",
      "0   66.971725  \n",
      "1   67.602936  \n",
      "2   32.261086  \n",
      "3   46.116505  \n",
      "4   52.341465  \n"
     ]
    }
   ],
   "source": [
    "# First five rows of the dataset\n",
    "print(\"\\nFirst five rows:\")\n",
    "print(df.head(5))"
   ]
  },
  {
   "cell_type": "code",
   "execution_count": 20,
   "metadata": {},
   "outputs": [
    {
     "name": "stdout",
     "output_type": "stream",
     "text": [
      "\n",
      "Size of dataset: 1105\n"
     ]
    }
   ],
   "source": [
    "# Size of the dataset (total number of elements)\n",
    "print(f\"\\nSize of dataset: {df.size}\")"
   ]
  },
  {
   "cell_type": "code",
   "execution_count": 21,
   "metadata": {},
   "outputs": [
    {
     "name": "stdout",
     "output_type": "stream",
     "text": [
      "\n",
      "Missing values per column:\n",
      "competitorname      0\n",
      "chocolate           0\n",
      "fruity              0\n",
      "caramel             0\n",
      "peanutyalmondy      0\n",
      "nougat              0\n",
      "crispedricewafer    0\n",
      "hard                0\n",
      "bar                 0\n",
      "pluribus            0\n",
      "sugarpercent        0\n",
      "pricepercent        0\n",
      "winpercent          0\n",
      "dtype: int64\n"
     ]
    }
   ],
   "source": [
    "# Number of missing values in each column\n",
    "print(\"\\nMissing values per column:\")\n",
    "print(df.isnull().sum())"
   ]
  },
  {
   "cell_type": "code",
   "execution_count": 22,
   "metadata": {},
   "outputs": [
    {
     "name": "stdout",
     "output_type": "stream",
     "text": [
      "\n",
      "Sum of numerical columns:\n",
      "chocolate             37.000000\n",
      "fruity                38.000000\n",
      "caramel               14.000000\n",
      "peanutyalmondy        14.000000\n",
      "nougat                 7.000000\n",
      "crispedricewafer       7.000000\n",
      "hard                  15.000000\n",
      "bar                   21.000000\n",
      "pluribus              44.000000\n",
      "sugarpercent          40.684999\n",
      "pricepercent          39.855000\n",
      "winpercent          4276.924924\n",
      "dtype: float64\n"
     ]
    }
   ],
   "source": [
    "# Sum of numerical columns\n",
    "print(\"\\nSum of numerical columns:\")\n",
    "print(df.select_dtypes(include='number').sum())"
   ]
  },
  {
   "cell_type": "code",
   "execution_count": 23,
   "metadata": {},
   "outputs": [
    {
     "name": "stdout",
     "output_type": "stream",
     "text": [
      "\n",
      "Average of numerical columns:\n",
      "chocolate            0.435294\n",
      "fruity               0.447059\n",
      "caramel              0.164706\n",
      "peanutyalmondy       0.164706\n",
      "nougat               0.082353\n",
      "crispedricewafer     0.082353\n",
      "hard                 0.176471\n",
      "bar                  0.247059\n",
      "pluribus             0.517647\n",
      "sugarpercent         0.478647\n",
      "pricepercent         0.468882\n",
      "winpercent          50.316764\n",
      "dtype: float64\n"
     ]
    }
   ],
   "source": [
    "# Average of numerical columns\n",
    "print(\"\\nAverage of numerical columns:\")\n",
    "print(df.select_dtypes(include='number').mean())"
   ]
  },
  {
   "cell_type": "code",
   "execution_count": 24,
   "metadata": {},
   "outputs": [
    {
     "name": "stdout",
     "output_type": "stream",
     "text": [
      "\n",
      "Minimum values in numerical columns:\n",
      "chocolate            0.000000\n",
      "fruity               0.000000\n",
      "caramel              0.000000\n",
      "peanutyalmondy       0.000000\n",
      "nougat               0.000000\n",
      "crispedricewafer     0.000000\n",
      "hard                 0.000000\n",
      "bar                  0.000000\n",
      "pluribus             0.000000\n",
      "sugarpercent         0.011000\n",
      "pricepercent         0.011000\n",
      "winpercent          22.445341\n",
      "dtype: float64\n"
     ]
    }
   ],
   "source": [
    "# Minimum values in numerical columns\n",
    "print(\"\\nMinimum values in numerical columns:\")\n",
    "print(df.select_dtypes(include='number').min())"
   ]
  },
  {
   "cell_type": "code",
   "execution_count": 25,
   "metadata": {},
   "outputs": [
    {
     "name": "stdout",
     "output_type": "stream",
     "text": [
      "\n",
      "Maximum values in numerical columns:\n",
      "chocolate            1.00000\n",
      "fruity               1.00000\n",
      "caramel              1.00000\n",
      "peanutyalmondy       1.00000\n",
      "nougat               1.00000\n",
      "crispedricewafer     1.00000\n",
      "hard                 1.00000\n",
      "bar                  1.00000\n",
      "pluribus             1.00000\n",
      "sugarpercent         0.98800\n",
      "pricepercent         0.97600\n",
      "winpercent          84.18029\n",
      "dtype: float64\n"
     ]
    }
   ],
   "source": [
    "# Maximum values in numerical columns\n",
    "print(\"\\nMaximum values in numerical columns:\")\n",
    "print(df.select_dtypes(include='number').max())"
   ]
  },
  {
   "cell_type": "code",
   "execution_count": 26,
   "metadata": {},
   "outputs": [],
   "source": [
    "# Export the modified dataset\n",
    "df.to_csv('output_file.csv', index=False)"
   ]
  },
  {
   "cell_type": "code",
   "execution_count": null,
   "metadata": {},
   "outputs": [],
   "source": []
  }
 ],
 "metadata": {
  "kernelspec": {
   "display_name": "Python 3",
   "language": "python",
   "name": "python3"
  },
  "language_info": {
   "codemirror_mode": {
    "name": "ipython",
    "version": 3
   },
   "file_extension": ".py",
   "mimetype": "text/x-python",
   "name": "python",
   "nbconvert_exporter": "python",
   "pygments_lexer": "ipython3",
   "version": "3.12.0"
  }
 },
 "nbformat": 4,
 "nbformat_minor": 2
}
